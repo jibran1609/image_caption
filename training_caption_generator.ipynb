{
 "cells": [
  {
   "cell_type": "code",
   "execution_count": 1,
   "id": "61357cd5",
   "metadata": {},
   "outputs": [
    {
     "data": {
      "application/vnd.jupyter.widget-view+json": {
       "model_id": "b6d65efc4e5d44b392b70d7c6664aaae",
       "version_major": 2,
       "version_minor": 0
      },
      "text/plain": [
       "0it [00:00, ?it/s]"
      ]
     },
     "metadata": {},
     "output_type": "display_data"
    }
   ],
   "source": [
    "import string\n",
    "import numpy as np\n",
    "from PIL import Image\n",
    "import os\n",
    "from pickle import dump, load\n",
    "from keras.applications.xception import Xception,preprocess_input\n",
    "from keras.preprocessing.image import load_img, img_to_array\n",
    "from keras.preprocessing.text import Tokenizer\n",
    "from keras.preprocessing.sequence import pad_sequences\n",
    "from tensorflow.keras.utils import to_categorical\n",
    "from keras.layers.merge import add\n",
    "from keras.models import Model, load_model\n",
    "from keras.layers import Input, Dense, LSTM, Embedding, Dropout\n",
    "\n",
    "# small library for seeing the progress of loops.\n",
    "from tqdm.notebook import tqdm_notebook as tqdm\n",
    "tqdm().pandas()"
   ]
  },
  {
   "cell_type": "code",
   "execution_count": 2,
   "id": "c7a220fa",
   "metadata": {},
   "outputs": [],
   "source": [
    "# Loading a text file into memory\n",
    "def load_doc(filename):\n",
    "    file = open(filename, 'r')  ##Opening the file as read only\n",
    "    text = file.read()\n",
    "    file.close()\n",
    "    return text"
   ]
  },
  {
   "cell_type": "code",
   "execution_count": 3,
   "id": "65073619",
   "metadata": {},
   "outputs": [],
   "source": [
    "# Get all images with their captions\n",
    "def all_img_captions(filename):\n",
    "    file = load_doc(filename)\n",
    "    captions = file.split('\\n')\n",
    "    descriptions = {}\n",
    "    for caption in captions[:-1]:\n",
    "        img, caption = caption.split('\\t')\n",
    "        if img[:-2] not in descriptions:\n",
    "            descriptions[img[:-2]] = [caption]\n",
    "        else:\n",
    "            descriptions[img[:-2]].append(caption)\n",
    "    return descriptions"
   ]
  },
  {
   "cell_type": "code",
   "execution_count": 4,
   "id": "f0648211",
   "metadata": {},
   "outputs": [],
   "source": [
    "# Data cleaning ----> Lower Casing, Removing Puntuations and words containing numbers\n",
    "def cleaning_text(captions):\n",
    "    table = str.maketrans('','',string.punctuation)\n",
    "    for img, caps in captions.items():\n",
    "        for i, img_caption in enumerate(caps):\n",
    "            \n",
    "            img_caption.replace(\"-\",\" \")\n",
    "            desc = img_caption.split()\n",
    "            \n",
    "            #convert to lower case\n",
    "            desc = [word.lower() for word in desc]\n",
    "            # remove punctutation from each token\n",
    "            desc = [word.translate(table) for word in desc]\n",
    "            # remove hanging 's and a\n",
    "            desc = [word for word in desc if(len(word)>1)]\n",
    "            # reomve tokens with numbers in them\n",
    "            desc = [word for word in desc if(word.isalpha())]\n",
    "            \n",
    "            # convert back to string\n",
    "            \n",
    "            img_caption = ' '.join(desc)\n",
    "            captions[img][i] = img_caption\n",
    "    return captions\n",
    "            "
   ]
  },
  {
   "cell_type": "code",
   "execution_count": 5,
   "id": "5a791d7c",
   "metadata": {},
   "outputs": [],
   "source": [
    "def text_vocabulary(descriptions):\n",
    "    # build vocabulary of all unique words\n",
    "    vocab = set()\n",
    "    \n",
    "    for key in descriptions.keys():\n",
    "        [vocab.update(d.split()) for d in descriptions[key]]\n",
    "    \n",
    "    return vocab"
   ]
  },
  {
   "cell_type": "code",
   "execution_count": 6,
   "id": "6cdd2b09",
   "metadata": {},
   "outputs": [],
   "source": [
    "#All descriptions in one file \n",
    "def save_descriptions(descriptions, filename):\n",
    "    lines = list()\n",
    "    for key, desc_list in descriptions.items():\n",
    "        for desc in desc_list:\n",
    "            lines.append(key + '\\t' + desc )\n",
    "    data = \"\\n\".join(lines)\n",
    "    file = open(filename,\"w\")\n",
    "    file.write(data)\n",
    "    file.close()"
   ]
  },
  {
   "cell_type": "code",
   "execution_count": 7,
   "id": "b8dd6b97",
   "metadata": {},
   "outputs": [],
   "source": [
    "# all_train_captions = []\n",
    "# for key, val in descriptions.items():\n",
    "#     for cap in val:\n",
    "#         all_train_captions.append(cap)\n",
    "\n",
    "# # Consider only words which occur at least 8 times in the corpus\n",
    "# word_count_threshold = 8\n",
    "# word_counts = {}\n",
    "# nsents = 0\n",
    "# for sent in all_train_captions:\n",
    "#     nsents += 1\n",
    "#     for w in sent.split(' '):\n",
    "#         word_counts[w] = word_counts.get(w, 0) + 1\n",
    "\n",
    "# vocab = [w for w in word_counts if word_counts[w] >= word_count_threshold]\n",
    "\n",
    "# print('preprocessed words %d ' % len(vocab))\n"
   ]
  },
  {
   "cell_type": "code",
   "execution_count": 8,
   "id": "8a1f30fc",
   "metadata": {},
   "outputs": [],
   "source": [
    "dataset_text = \"C:\\\\Users\\\\pc\\\\IMAGE_CAPTION_GENERATOR\\Flickr8k_text\""
   ]
  },
  {
   "cell_type": "code",
   "execution_count": 9,
   "id": "3a5570d8",
   "metadata": {},
   "outputs": [
    {
     "name": "stdout",
     "output_type": "stream",
     "text": [
      "Length of descriptions = 8092\n",
      "Length of vocabulary =  8763\n"
     ]
    }
   ],
   "source": [
    "#we prepare our text data\n",
    "filename = dataset_text + \"/\" + \"Flickr8k.token.txt\"\n",
    "#loading the file that contains all data\n",
    "#mapping them into descriptions dictionary img to 5 captions\n",
    "descriptions = all_img_captions(filename)\n",
    "print(\"Length of descriptions =\" ,len(descriptions))\n",
    "\n",
    "#cleaning the descriptions\n",
    "clean_descriptions = cleaning_text(descriptions)\n",
    "\n",
    "#building vocabulary \n",
    "vocabulary = text_vocabulary(clean_descriptions)\n",
    "print(\"Length of vocabulary = \", len(vocabulary))\n",
    "\n",
    "#saving each description to file \n",
    "save_descriptions(clean_descriptions, \"descriptions.txt\")"
   ]
  },
  {
   "cell_type": "code",
   "execution_count": 10,
   "id": "cf393f85",
   "metadata": {},
   "outputs": [],
   "source": [
    "dataset_images = \"C:\\\\Users\\\\pc\\\\IMAGE_CAPTION_GENERATOR\\Flicker8k_Dataset\""
   ]
  },
  {
   "cell_type": "code",
   "execution_count": 11,
   "id": "9d08cfb5",
   "metadata": {},
   "outputs": [],
   "source": [
    "def extract_features(directory):\n",
    "        model = Xception( include_top=False, pooling='avg' )\n",
    "        features = {}\n",
    "        for img in tqdm(os.listdir(directory)):\n",
    "            filename = directory + \"/\" + img\n",
    "            image = Image.open(filename)\n",
    "            image = image.resize((299,299))\n",
    "            image = np.expand_dims(image, axis=0)\n",
    "            #image = preprocess_input(image)\n",
    "            image = image/127.5\n",
    "            image = image - 1.0\n",
    "            \n",
    "            feature = model.predict(image)\n",
    "            features[img] = feature\n",
    "        return features"
   ]
  },
  {
   "cell_type": "code",
   "execution_count": 12,
   "id": "5cab7b28",
   "metadata": {},
   "outputs": [
    {
     "data": {
      "application/vnd.jupyter.widget-view+json": {
       "model_id": "9f3c60c70a62409e975f8fd292f45cc0",
       "version_major": 2,
       "version_minor": 0
      },
      "text/plain": [
       "  0%|          | 0/8091 [00:00<?, ?it/s]"
      ]
     },
     "metadata": {},
     "output_type": "display_data"
    }
   ],
   "source": [
    "#2048 feature vector\n",
    "features = extract_features(dataset_images)\n",
    "dump(features, open(\"features.p\",\"wb\"))"
   ]
  },
  {
   "cell_type": "code",
   "execution_count": 13,
   "id": "50f3ac88",
   "metadata": {},
   "outputs": [],
   "source": [
    "features = load(open(\"features.p\",\"rb\"))"
   ]
  },
  {
   "cell_type": "code",
   "execution_count": 14,
   "id": "5b049d07",
   "metadata": {},
   "outputs": [],
   "source": [
    "#load the data \n",
    "def load_photos(filename):\n",
    "    file = load_doc(filename)\n",
    "    photos = file.split(\"\\n\")[:-1]\n",
    "    return photos\n",
    "def load_clean_descriptions(filename, photos): \n",
    "    #loading clean_descriptions\n",
    "    file = load_doc(filename)\n",
    "    descriptions = {}\n",
    "    for line in file.split(\"\\n\"):\n",
    "        words = line.split()\n",
    "        if len(words)<1 :\n",
    "            continue\n",
    "        image, image_caption = words[0], words[1:]\n",
    "        if image in photos:\n",
    "            if image not in descriptions:\n",
    "                descriptions[image] = []\n",
    "            desc = '<start> ' + \" \".join(image_caption) + ' <end>'\n",
    "            descriptions[image].append(desc)\n",
    "    return descriptions\n",
    "def load_features(photos):\n",
    "    #loading all features\n",
    "    all_features = load(open(\"features.p\",\"rb\"))\n",
    "    #selecting only needed features\n",
    "    features = {k:all_features[k] for k in photos}\n",
    "    return features\n",
    "filename = dataset_text + \"/\" + \"Flickr_8k.trainImages.txt\"\n",
    "#train = loading_data(filename)\n",
    "train_imgs = load_photos(filename)\n",
    "train_descriptions = load_clean_descriptions(\"descriptions.txt\", train_imgs)\n",
    "train_features = load_features(train_imgs)"
   ]
  },
  {
   "cell_type": "code",
   "execution_count": 15,
   "id": "380c2160",
   "metadata": {},
   "outputs": [],
   "source": [
    "#converting dictionary to clean list of descriptions\n",
    "def dict_to_list(descriptions):\n",
    "    all_desc = []\n",
    "    for key in descriptions.keys():\n",
    "        [all_desc.append(d) for d in descriptions[key]]\n",
    "    return all_desc\n",
    "\n",
    "#creating tokenizer class \n",
    "#this will vectorise text corpus\n",
    "#each integer will represent token in dictionary \n",
    "\n",
    "from keras.preprocessing.text import Tokenizer\n",
    "\n",
    "def create_tokenizer(descriptions):\n",
    "    desc_list = dict_to_list(descriptions)\n",
    "    tokenizer = Tokenizer()\n",
    "    tokenizer.fit_on_texts(desc_list)\n",
    "    return tokenizer\n"
   ]
  },
  {
   "cell_type": "code",
   "execution_count": 16,
   "id": "2961e8bb",
   "metadata": {},
   "outputs": [
    {
     "data": {
      "text/plain": [
       "7577"
      ]
     },
     "execution_count": 16,
     "metadata": {},
     "output_type": "execute_result"
    }
   ],
   "source": [
    "# give each word a index, and store that into tokenizer.p pickle file\n",
    "tokenizer = create_tokenizer(train_descriptions)\n",
    "dump(tokenizer, open('tokenizer.p', 'wb'))\n",
    "vocab_size = len(tokenizer.word_index) + 1\n",
    "vocab_size "
   ]
  },
  {
   "cell_type": "code",
   "execution_count": 17,
   "id": "d145e71d",
   "metadata": {},
   "outputs": [
    {
     "data": {
      "text/plain": [
       "32"
      ]
     },
     "execution_count": 17,
     "metadata": {},
     "output_type": "execute_result"
    }
   ],
   "source": [
    "#calculate maximum length of descriptions\n",
    "def max_length(descriptions):\n",
    "    desc_list = dict_to_list(descriptions)\n",
    "    return max(len(d.split()) for d in desc_list)\n",
    "\n",
    "max_length = max_length(descriptions)\n",
    "max_length"
   ]
  },
  {
   "cell_type": "code",
   "execution_count": 18,
   "id": "f22f5d3a",
   "metadata": {},
   "outputs": [
    {
     "data": {
      "text/plain": [
       "array([0.47339708, 0.01732647, 0.07333975, ..., 0.08559047, 0.02102302,\n",
       "       0.23766533], dtype=float32)"
      ]
     },
     "execution_count": 18,
     "metadata": {},
     "output_type": "execute_result"
    }
   ],
   "source": [
    "features['1000268201_693b08cb0e.jpg'][0]"
   ]
  },
  {
   "cell_type": "code",
   "execution_count": 19,
   "id": "c4cf3b93",
   "metadata": {},
   "outputs": [],
   "source": [
    "# Define the model\n",
    "\n",
    "#1 Photo feature extractor - we extracted features from pretrained model Xception. \n",
    "#2 Sequence processor - word embedding layer that handles text, followed by LSTM \n",
    "#3 Decoder - Both 1 and 2 model produce fixed length vector. They are merged together and processed by dense layer to make final prediction"
   ]
  },
  {
   "cell_type": "code",
   "execution_count": 20,
   "id": "c5f71833",
   "metadata": {},
   "outputs": [],
   "source": [
    "#create input-output sequence pairs from the image description.\n",
    "\n",
    "#data generator, used by model.fit_generator()\n",
    "def data_generator(descriptions, features, tokenizer, max_length):\n",
    "    while 1:\n",
    "        for key, description_list in descriptions.items():\n",
    "            #retrieve photo features\n",
    "            feature = features[key][0]\n",
    "            input_image, input_sequence, output_word = create_sequences(tokenizer, max_length, description_list, feature)\n",
    "            yield [[input_image, input_sequence], output_word]         \n",
    "\n",
    "def create_sequences(tokenizer, max_length, desc_list, feature):\n",
    "    X1, X2, y = list(), list(), list()\n",
    "    # walk through each description for the image\n",
    "    for desc in desc_list:\n",
    "        # encode the sequence\n",
    "        seq = tokenizer.texts_to_sequences([desc])[0]\n",
    "        # split one sequence into multiple X,y pairs\n",
    "        for i in range(1, len(seq)):\n",
    "            # split into input and output pair\n",
    "            in_seq, out_seq = seq[:i], seq[i]\n",
    "            # pad input sequence\n",
    "            in_seq = pad_sequences([in_seq], maxlen=max_length)[0]\n",
    "            # encode output sequence\n",
    "            out_seq = to_categorical([out_seq], num_classes=vocab_size)[0]\n",
    "            # store\n",
    "            X1.append(feature)\n",
    "            X2.append(in_seq)\n",
    "            y.append(out_seq)\n",
    "    return np.array(X1), np.array(X2), np.array(y)"
   ]
  },
  {
   "cell_type": "code",
   "execution_count": 21,
   "id": "af84c121",
   "metadata": {},
   "outputs": [
    {
     "data": {
      "text/plain": [
       "((47, 2048), (47, 32), (47, 7577))"
      ]
     },
     "execution_count": 21,
     "metadata": {},
     "output_type": "execute_result"
    }
   ],
   "source": [
    "[a,b],c = next(data_generator(train_descriptions, features, tokenizer, max_length))\n",
    "a.shape, b.shape, c.shape"
   ]
  },
  {
   "cell_type": "code",
   "execution_count": 30,
   "id": "aeb562a4",
   "metadata": {},
   "outputs": [],
   "source": [
    "from keras.utils.vis_utils import plot_model\n",
    "\n",
    "# define the captioning model\n",
    "def define_model(vocab_size, max_length):\n",
    "    \n",
    "    # features from the CNN model squeezed from 2048 to 256 nodes\n",
    "    inputs1 = Input(shape=(2048,))\n",
    "    fe1 = Dropout(0.5)(inputs1)\n",
    "    fe2 = Dense(256, activation='relu')(fe1)\n",
    "\n",
    "    # LSTM sequence model\n",
    "    inputs2 = Input(shape=(max_length,))\n",
    "    se1 = Embedding(vocab_size, 256, mask_zero=True)(inputs2)\n",
    "    se2 = Dropout(0.5)(se1)\n",
    "    se3 = LSTM(256)(se2)\n",
    "\n",
    "    # Merging both models\n",
    "    decoder1 = add([fe2, se3])\n",
    "    decoder2 = Dense(256, activation='relu')(decoder1)\n",
    "    outputs = Dense(vocab_size, activation='softmax')(decoder2)\n",
    "    \n",
    "    # tie it together [image, seq] [word]\n",
    "    model = Model(inputs=[inputs1, inputs2], outputs=outputs)\n",
    "    model.compile(loss='categorical_crossentropy', optimizer='adam',metrics=['accuracy'])\n",
    "   \n",
    "    # summarize model\n",
    "    print(model.summary())\n",
    "    plot_model(model, to_file='model.png', show_shapes=True)\n",
    "    \n",
    "    return model"
   ]
  },
  {
   "cell_type": "code",
   "execution_count": 35,
   "id": "7355330f",
   "metadata": {},
   "outputs": [
    {
     "name": "stdout",
     "output_type": "stream",
     "text": [
      "Dataset:  6000\n",
      "Descriptions: train= 6000\n",
      "Photos: train= 6000\n",
      "Vocabulary Size: 7577\n",
      "Description Length:  32\n",
      "Model: \"model_7\"\n",
      "__________________________________________________________________________________________________\n",
      " Layer (type)                   Output Shape         Param #     Connected to                     \n",
      "==================================================================================================\n",
      " input_17 (InputLayer)          [(None, 32)]         0           []                               \n",
      "                                                                                                  \n",
      " input_16 (InputLayer)          [(None, 2048)]       0           []                               \n",
      "                                                                                                  \n",
      " embedding_7 (Embedding)        (None, 32, 256)      1939712     ['input_17[0][0]']               \n",
      "                                                                                                  \n",
      " dropout_14 (Dropout)           (None, 2048)         0           ['input_16[0][0]']               \n",
      "                                                                                                  \n",
      " dropout_15 (Dropout)           (None, 32, 256)      0           ['embedding_7[0][0]']            \n",
      "                                                                                                  \n",
      " dense_21 (Dense)               (None, 256)          524544      ['dropout_14[0][0]']             \n",
      "                                                                                                  \n",
      " lstm_7 (LSTM)                  (None, 256)          525312      ['dropout_15[0][0]']             \n",
      "                                                                                                  \n",
      " add_19 (Add)                   (None, 256)          0           ['dense_21[0][0]',               \n",
      "                                                                  'lstm_7[0][0]']                 \n",
      "                                                                                                  \n",
      " dense_22 (Dense)               (None, 256)          65792       ['add_19[0][0]']                 \n",
      "                                                                                                  \n",
      " dense_23 (Dense)               (None, 7577)         1947289     ['dense_22[0][0]']               \n",
      "                                                                                                  \n",
      "==================================================================================================\n",
      "Total params: 5,002,649\n",
      "Trainable params: 5,002,649\n",
      "Non-trainable params: 0\n",
      "__________________________________________________________________________________________________\n",
      "None\n",
      "You must install pydot (`pip install pydot`) and install graphviz (see instructions at https://graphviz.gitlab.io/download/) for plot_model/model_to_dot to work.\n"
     ]
    },
    {
     "name": "stderr",
     "output_type": "stream",
     "text": [
      "C:\\Users\\pc\\AppData\\Local\\Temp/ipykernel_8268/516435887.py:19: UserWarning: `Model.fit_generator` is deprecated and will be removed in a future version. Please use `Model.fit`, which supports generators.\n",
      "  model.fit_generator(generator, epochs=1, steps_per_epoch= steps,callbacks =[checkpointer], verbose=1)\n"
     ]
    },
    {
     "name": "stdout",
     "output_type": "stream",
     "text": [
      "6000/6000 [==============================] - ETA: 0s - loss: 4.5005 - accuracy: 0.2381WARNING:tensorflow:Can save best model only with val_loss available, skipping.\n",
      "6000/6000 [==============================] - 2651s 441ms/step - loss: 4.5005 - accuracy: 0.2381\n",
      "6000/6000 [==============================] - ETA: 0s - loss: 3.6629 - accuracy: 0.2934WARNING:tensorflow:Can save best model only with val_loss available, skipping.\n",
      "6000/6000 [==============================] - 2718s 453ms/step - loss: 3.6629 - accuracy: 0.2934\n",
      "6000/6000 [==============================] - ETA: 0s - loss: 3.3747 - accuracy: 0.3130WARNING:tensorflow:Can save best model only with val_loss available, skipping.\n",
      "6000/6000 [==============================] - 2697s 450ms/step - loss: 3.3747 - accuracy: 0.3130\n",
      "6000/6000 [==============================] - ETA: 0s - loss: 3.1962 - accuracy: 0.3250WARNING:tensorflow:Can save best model only with val_loss available, skipping.\n",
      "6000/6000 [==============================] - 2593s 432ms/step - loss: 3.1962 - accuracy: 0.3250\n",
      "6000/6000 [==============================] - ETA: 0s - loss: 3.0756 - accuracy: 0.3338WARNING:tensorflow:Can save best model only with val_loss available, skipping.\n",
      "6000/6000 [==============================] - 2502s 417ms/step - loss: 3.0756 - accuracy: 0.3338\n",
      "6000/6000 [==============================] - ETA: 0s - loss: 2.9861 - accuracy: 0.3397WARNING:tensorflow:Can save best model only with val_loss available, skipping.\n",
      "6000/6000 [==============================] - 2492s 415ms/step - loss: 2.9861 - accuracy: 0.3397\n",
      "6000/6000 [==============================] - ETA: 0s - loss: 2.9210 - accuracy: 0.3450WARNING:tensorflow:Can save best model only with val_loss available, skipping.\n",
      "6000/6000 [==============================] - 2490s 415ms/step - loss: 2.9210 - accuracy: 0.3450\n",
      "6000/6000 [==============================] - ETA: 0s - loss: 2.8611 - accuracy: 0.3505WARNING:tensorflow:Can save best model only with val_loss available, skipping.\n",
      "6000/6000 [==============================] - 2437s 406ms/step - loss: 2.8611 - accuracy: 0.3505\n",
      "6000/6000 [==============================] - ETA: 0s - loss: 2.8132 - accuracy: 0.3549WARNING:tensorflow:Can save best model only with val_loss available, skipping.\n",
      "6000/6000 [==============================] - 2421s 403ms/step - loss: 2.8132 - accuracy: 0.3549\n",
      "6000/6000 [==============================] - ETA: 0s - loss: 2.7784 - accuracy: 0.3583WARNING:tensorflow:Can save best model only with val_loss available, skipping.\n",
      "6000/6000 [==============================] - 2424s 404ms/step - loss: 2.7784 - accuracy: 0.3583\n",
      "6000/6000 [==============================] - ETA: 0s - loss: 2.7453 - accuracy: 0.3620WARNING:tensorflow:Can save best model only with val_loss available, skipping.\n",
      "6000/6000 [==============================] - 2395s 399ms/step - loss: 2.7453 - accuracy: 0.3620\n",
      "6000/6000 [==============================] - ETA: 0s - loss: 2.7178 - accuracy: 0.3646WARNING:tensorflow:Can save best model only with val_loss available, skipping.\n",
      "6000/6000 [==============================] - 2459s 410ms/step - loss: 2.7178 - accuracy: 0.3646\n",
      "6000/6000 [==============================] - ETA: 0s - loss: 2.6992 - accuracy: 0.3675WARNING:tensorflow:Can save best model only with val_loss available, skipping.\n",
      "6000/6000 [==============================] - 2386s 398ms/step - loss: 2.6992 - accuracy: 0.3675\n",
      "6000/6000 [==============================] - ETA: 0s - loss: 2.6791 - accuracy: 0.3694WARNING:tensorflow:Can save best model only with val_loss available, skipping.\n",
      "6000/6000 [==============================] - 2322s 387ms/step - loss: 2.6791 - accuracy: 0.3694\n",
      "6000/6000 [==============================] - ETA: 0s - loss: 2.6624 - accuracy: 0.3716WARNING:tensorflow:Can save best model only with val_loss available, skipping.\n",
      "6000/6000 [==============================] - 2326s 388ms/step - loss: 2.6624 - accuracy: 0.3716\n",
      "6000/6000 [==============================] - ETA: 0s - loss: 2.6509 - accuracy: 0.3733WARNING:tensorflow:Can save best model only with val_loss available, skipping.\n",
      "6000/6000 [==============================] - 2537s 423ms/step - loss: 2.6509 - accuracy: 0.3733\n",
      "6000/6000 [==============================] - ETA: 0s - loss: 2.6375 - accuracy: 0.3752WARNING:tensorflow:Can save best model only with val_loss available, skipping.\n",
      "6000/6000 [==============================] - 2436s 406ms/step - loss: 2.6375 - accuracy: 0.3752\n",
      "6000/6000 [==============================] - ETA: 0s - loss: 2.6249 - accuracy: 0.3766WARNING:tensorflow:Can save best model only with val_loss available, skipping.\n",
      "6000/6000 [==============================] - 2453s 409ms/step - loss: 2.6249 - accuracy: 0.3766\n",
      "6000/6000 [==============================] - ETA: 0s - loss: 2.6182 - accuracy: 0.3781WARNING:tensorflow:Can save best model only with val_loss available, skipping.\n",
      "6000/6000 [==============================] - 2491s 415ms/step - loss: 2.6182 - accuracy: 0.3781\n",
      "6000/6000 [==============================] - ETA: 0s - loss: 2.6133 - accuracy: 0.3785WARNING:tensorflow:Can save best model only with val_loss available, skipping.\n",
      "6000/6000 [==============================] - 2882s 480ms/step - loss: 2.6133 - accuracy: 0.3785\n",
      "6000/6000 [==============================] - ETA: 0s - loss: 2.6053 - accuracy: 0.3795WARNING:tensorflow:Can save best model only with val_loss available, skipping.\n",
      "6000/6000 [==============================] - 2601s 434ms/step - loss: 2.6053 - accuracy: 0.3795\n",
      "6000/6000 [==============================] - ETA: 0s - loss: 2.6011 - accuracy: 0.3807WARNING:tensorflow:Can save best model only with val_loss available, skipping.\n",
      "6000/6000 [==============================] - 2506s 418ms/step - loss: 2.6011 - accuracy: 0.3807\n",
      "6000/6000 [==============================] - ETA: 0s - loss: 2.5958 - accuracy: 0.3815WARNING:tensorflow:Can save best model only with val_loss available, skipping.\n",
      "6000/6000 [==============================] - 2521s 420ms/step - loss: 2.5958 - accuracy: 0.3815\n",
      "6000/6000 [==============================] - ETA: 0s - loss: 2.5927 - accuracy: 0.3819WARNING:tensorflow:Can save best model only with val_loss available, skipping.\n",
      "6000/6000 [==============================] - 2623s 437ms/step - loss: 2.5927 - accuracy: 0.3819\n",
      "6000/6000 [==============================] - ETA: 0s - loss: 2.5877 - accuracy: 0.3828WARNING:tensorflow:Can save best model only with val_loss available, skipping.\n",
      "6000/6000 [==============================] - 2951s 492ms/step - loss: 2.5877 - accuracy: 0.3828\n",
      "6000/6000 [==============================] - ETA: 0s - loss: 2.5833 - accuracy: 0.3831WARNING:tensorflow:Can save best model only with val_loss available, skipping.\n",
      "6000/6000 [==============================] - 2827s 471ms/step - loss: 2.5833 - accuracy: 0.3831\n",
      "6000/6000 [==============================] - ETA: 0s - loss: 2.5827 - accuracy: 0.3835WARNING:tensorflow:Can save best model only with val_loss available, skipping.\n",
      "6000/6000 [==============================] - 2856s 476ms/step - loss: 2.5827 - accuracy: 0.3835\n",
      "6000/6000 [==============================] - ETA: 0s - loss: 2.5779 - accuracy: 0.3840WARNING:tensorflow:Can save best model only with val_loss available, skipping.\n",
      "6000/6000 [==============================] - 3067s 511ms/step - loss: 2.5779 - accuracy: 0.3840\n",
      "6000/6000 [==============================] - ETA: 0s - loss: 2.5755 - accuracy: 0.3847WARNING:tensorflow:Can save best model only with val_loss available, skipping.\n",
      "6000/6000 [==============================] - 3152s 525ms/step - loss: 2.5755 - accuracy: 0.3847\n",
      "6000/6000 [==============================] - ETA: 0s - loss: 2.5754 - accuracy: 0.3855WARNING:tensorflow:Can save best model only with val_loss available, skipping.\n",
      "6000/6000 [==============================] - 2977s 496ms/step - loss: 2.5754 - accuracy: 0.3855\n"
     ]
    }
   ],
   "source": [
    "# train our model\n",
    "print('Dataset: ', len(train_imgs))\n",
    "print('Descriptions: train=', len(train_descriptions))\n",
    "print('Photos: train=', len(train_features))\n",
    "print('Vocabulary Size:', vocab_size)\n",
    "print('Description Length: ', max_length)\n",
    "from keras.callbacks import ModelCheckpoint\n",
    "model = define_model(vocab_size, max_length)\n",
    "epochs = 30\n",
    "steps = len(train_descriptions)\n",
    "# making a directory models to save our models\n",
    "os.mkdir(\"models\")\n",
    "for i in range(epochs):\n",
    "    generator = data_generator(train_descriptions, train_features, tokenizer, max_length)\n",
    "    checkpointer = ModelCheckpoint(filepath='./models/IMGAE_CAPTION_GENERATOR', \n",
    "                               verbose = 1, \n",
    "                               save_best_only = True)\n",
    "\n",
    "    model.fit_generator(generator, epochs=1, steps_per_epoch= steps,callbacks =[checkpointer], verbose=1)\n",
    "    model.save(\"models/model_\" + str(i) + \".h5\")"
   ]
  },
  {
   "cell_type": "code",
   "execution_count": null,
   "id": "2db4fcb5",
   "metadata": {},
   "outputs": [],
   "source": []
  }
 ],
 "metadata": {
  "kernelspec": {
   "display_name": "Python 3 (ipykernel)",
   "language": "python",
   "name": "python3"
  },
  "language_info": {
   "codemirror_mode": {
    "name": "ipython",
    "version": 3
   },
   "file_extension": ".py",
   "mimetype": "text/x-python",
   "name": "python",
   "nbconvert_exporter": "python",
   "pygments_lexer": "ipython3",
   "version": "3.9.7"
  }
 },
 "nbformat": 4,
 "nbformat_minor": 5
}
